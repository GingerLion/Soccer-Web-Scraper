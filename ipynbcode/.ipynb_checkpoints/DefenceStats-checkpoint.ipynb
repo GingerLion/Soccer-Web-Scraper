{
 "cells": [
  {
   "cell_type": "code",
   "execution_count": 1,
   "metadata": {},
   "outputs": [
    {
     "name": "stdout",
     "output_type": "stream",
     "text": [
      "importing Jupyter notebook from generalstats.ipynb\n",
      "importing Jupyter notebook from PlayerInfo.ipynb\n"
     ]
    }
   ],
   "source": [
    "import import_ipynb\n",
    "import numpy as np\n",
    "import pandas as pd\n",
    "from bs4 import BeautifulSoup\n",
    "from generalstats import GeneralStats \n",
    "\n",
    "class DefenceStats(GeneralStats):\n",
    "    def __init__(self,league):\n",
    "        self.league = league\n",
    "        self.role = \"Defence\"\n",
    "        self.defence_urls = {\n",
    "                \"blocks\":\"https://footballapi.pulselive.com/football/stats/ranked/players/outfielder_block?page=0&pageSize=20&compSeasons=274&comps=1&compCodeForActivePlayer=\"+self.league+\"&altIds=true\",\n",
    "                \"interceptions\":\"https://footballapi.pulselive.com/football/stats/ranked/players/interception?page=0&pageSize=20&compSeasons=274&comps=1&compCodeForActivePlayer=\"+self.league+\"&altIds=true\",\n",
    "                \"tackles\":\"https://footballapi.pulselive.com/football/stats/ranked/players/total_tackle?page=0&pageSize=20&compSeasons=274&comps=1&compCodeForActivePlayer=\"+self.league+\"&altIds=true\",\n",
    "                \"lmtackles\":\"https://footballapi.pulselive.com/football/stats/ranked/players/last_man_tackle?page=0&pageSize=20&compSeasons=274&comps=1&compCodeForActivePlayer=\"+self.league+\"&altIds=true\",\n",
    "                \"clearances\":\"https://footballapi.pulselive.com/football/stats/ranked/players/total_clearance?page=0&pageSize=20&compSeasons=274&comps=1&compCodeForActivePlayer=\"+self.league+\"&altIds=true\",\n",
    "                \"h_clearances\":\"https://footballapi.pulselive.com/football/stats/ranked/players/head_clearance?page=0&pageSize=20&compSeasons=274&comps=1&compCodeForActivePlayer=\"+self.league+\"&altIds=true\",\n",
    "                \"abw\":\"https://footballapi.pulselive.com/football/stats/ranked/players/aerial_won?page=0&pageSize=20&compSeasons=274&comps=1&compCodeForActivePlayer=\"+self.league+\"&altIds=true\",\n",
    "                \"og\":\"https://footballapi.pulselive.com/football/stats/ranked/players/own_goals?page=0&pageSize=20&compSeasons=274&comps=1&compCodeForActivePlayer=\"+self.league+\"&altIds=true\",\n",
    "                \"err_2_goal\":\"https://footballapi.pulselive.com/football/stats/ranked/players/error_lead_to_goal?page=0&pageSize=20&compSeasons=274&comps=1&compCodeForActivePlayer=\"+self.league+\"&altIds=true\",\n",
    "                \"pens_conc\":\"https://footballapi.pulselive.com/football/stats/ranked/players/penalty_conceded?page=0&pageSize=20&compSeasons=274&comps=1&compCodeForActivePlayer=\"+self.league+\"&altIds=true\",\n",
    "                \"fouls\":\"https://footballapi.pulselive.com/football/stats/ranked/players/fouls?page=0&pageSize=20&compSeasons=274&comps=1&compCodeForActivePlayer=\"+self.league+\"&altIds=true\",\n",
    "                \"abl\":\"https://footballapi.pulselive.com/football/stats/ranked/players/aerial_lost?page=0&pageSize=20&compSeasons=274&comps=1&compCodeForActivePlayer=\"+self.league+\"&altIds=true\"\n",
    "                }\n",
    "        self.defence_info = {key:[] for key in self.defence_urls.keys()}\n",
    "        self.defence_info = super().parse_stats(self.defence_urls.keys(),super().get_(self.defence_urls))\n",
    "        self.df = super().create_df(self.defence_info,super().getStatsNames)\n",
    "            \n",
    "            \n",
    "            \n",
    "            \n",
    "#d = DefenceStats('EN_PR')\n",
    "#d.df"
   ]
  },
  {
   "cell_type": "code",
   "execution_count": null,
   "metadata": {},
   "outputs": [],
   "source": []
  },
  {
   "cell_type": "code",
   "execution_count": null,
   "metadata": {},
   "outputs": [],
   "source": []
  },
  {
   "cell_type": "code",
   "execution_count": null,
   "metadata": {},
   "outputs": [],
   "source": []
  }
 ],
 "metadata": {
  "kernelspec": {
   "display_name": "Python(my_env)",
   "language": "python",
   "name": "myenv"
  },
  "language_info": {
   "codemirror_mode": {
    "name": "ipython",
    "version": 3
   },
   "file_extension": ".py",
   "mimetype": "text/x-python",
   "name": "python",
   "nbconvert_exporter": "python",
   "pygments_lexer": "ipython3",
   "version": "3.6.4"
  }
 },
 "nbformat": 4,
 "nbformat_minor": 2
}
