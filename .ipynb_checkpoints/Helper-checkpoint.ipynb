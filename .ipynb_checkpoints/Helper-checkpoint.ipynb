{
 "cells": [
  {
   "cell_type": "code",
   "execution_count": null,
   "metadata": {},
   "outputs": [],
   "source": [
    "def list_content_empty(self,li):\n",
    "        \"\"\"check if the end of json data is reached\"\"\"\n",
    "        if not li:\n",
    "            return True\n",
    "        else:\n",
    "            return False\n",
    "    \n",
    "def get_(url_dict,stat):\n",
    "    i = 0\n",
    "    response = dict()\n",
    "    ls_responses = []\n",
    "    while True:\n",
    "        if i > 0: # alter GET message to change pages\n",
    "            url_dict[stat] = url_dict[stat].replace(f'page={i-1}',f'page={i}')\n",
    "            response = requests.get(url_dict[stat]).json()\n",
    "        else:\n",
    "            response = requests.get(url_dict[stat]).json()\n",
    "        # if no more content\n",
    "        if list_content_empty(response['stats']['content']):\n",
    "            break\n",
    "        #print(response)\n",
    "        ls_responses.append(response)\n",
    "        i = i+1\n",
    "        response = dict()\n",
    "    return ls_responses\n",
    "#.....\n",
    "def parse_stats(self,stat):\n",
    "        \"\"\"\n",
    "        Input: list of stat field names\n",
    "        Process: parses json data from the api and stores it in\n",
    "        the corresponding instance variables\n",
    "        Output: None\n",
    "        \"\"\"\n",
    "        for s in stat:\n",
    "            pages = self.get_(s)\n",
    "            for page in pages:\n",
    "                for player in range(len(page['stats']['content'])):\n",
    "                    self.general_info[s].append(tuple((int(page['stats']['content'][player]['owner']['playerId']),int(page['stats']['content'][player]['value']))))\n"
   ]
  }
 ],
 "metadata": {
  "kernelspec": {
   "display_name": "Python(my_env)",
   "language": "python",
   "name": "myenv"
  },
  "language_info": {
   "codemirror_mode": {
    "name": "ipython",
    "version": 3
   },
   "file_extension": ".py",
   "mimetype": "text/x-python",
   "name": "python",
   "nbconvert_exporter": "python",
   "pygments_lexer": "ipython3",
   "version": "3.6.4"
  }
 },
 "nbformat": 4,
 "nbformat_minor": 2
}
