{
 "cells": [
  {
   "cell_type": "code",
   "execution_count": 11,
   "metadata": {},
   "outputs": [],
   "source": [
    "from bs4 import BeautifulSoup\n",
    "import pandas as pd\n",
    "import numpy as np\n",
    "import requests\n",
    "from generalStats import GeneralStats\n",
    "\n",
    "class GoalkeeperStats(GeneralStats):\n",
    "    def __init__(self,league):\n",
    "        self.league = league\n",
    "        self.role = \"Goalkeeper\"\n",
    "        self.gk_urls = {\n",
    "            \"clean_sheets\": \"https://footballapi.pulselive.com/football/stats/ranked/players/clean_sheet?page=0&pageSize=20&compSeasons=274&comps=1&compCodeForActivePlayer=\"+self.league+\"&positions=GOALKEEPER&altIds=true\",\n",
    "            \"goals_conceded\": \"https://footballapi.pulselive.com/football/stats/ranked/players/goals_conceded?page=0&pageSize=20&compSeasons=274&comps=1&compCodeForActivePlayer=\"+self.league+\"&positions=GOALKEEPER&altIds=true\",\n",
    "            \"saves\": \"https://footballapi.pulselive.com/football/stats/ranked/players/saves?page=0&pageSize=20&compSeasons=274&comps=1&compCodeForActivePlayer=\"+self.league+\"&positions=GOALKEEPER&altIds=true\",\n",
    "            \"penalties_saved\": \"https://footballapi.pulselive.com/football/stats/ranked/players/penalty_save?page=0&pageSize=20&compSeasons=274&comps=1&compCodeForActivePlayer=\"+self.league+\"&positions=GOALKEEPER&altIds=true\",\n",
    "            \"punches\": \"https://footballapi.pulselive.com/football/stats/ranked/players/punches?page=0&pageSize=20&compSeasons=274&comps=1&compCodeForActivePlayer=\"+self.league+\"&positions=GOALKEEPER&altIds=true\",\n",
    "            \"high_claims\": \"https://footballapi.pulselive.com/football/stats/ranked/players/total_high_claim?page=0&pageSize=20&compSeasons=274&comps=1&compCodeForActivePlayer=\"+self.league+\"&positions=GOALKEEPER&altIds=true\",\n",
    "            \"sweeper_clearances\": \"https://footballapi.pulselive.com/football/stats/ranked/players/total_keeper_sweeper?page=0&pageSize=20&compSeasons=274&comps=1&compCodeForActivePlayer=\"+self.league+\"&positions=GOALKEEPER&altIds=true\",\n",
    "            \"throw_outs\": \"https://footballapi.pulselive.com/football/stats/ranked/players/keeper_throws?page=0&pageSize=20&compSeasons=274&comps=1&compCodeForActivePlayer=\"+self.league+\"&positions=GOALKEEPER&altIds=true\",\n",
    "            \"goal_kicks\": \"https://footballapi.pulselive.com/football/stats/ranked/players/goal_kicks?page=0&pageSize=20&compSeasons=274&comps=1&compCodeForActivePlayer=\"+self.league+\"&positions=GOALKEEPER&altIds=true\"\n",
    "        }\n",
    "        self.gk_info = super().parse_stats(self.gk_urls.keys(),super().get_(self.gk_urls))\n",
    "        self.df = super().create_df(self.gk_info,super().getStatsNames)"
   ]
  },
  {
   "cell_type": "code",
   "execution_count": null,
   "metadata": {},
   "outputs": [],
   "source": []
  },
  {
   "cell_type": "code",
   "execution_count": null,
   "metadata": {},
   "outputs": [],
   "source": []
  }
 ],
 "metadata": {
  "kernelspec": {
   "display_name": "Python(my_env)",
   "language": "python",
   "name": "myenv"
  },
  "language_info": {
   "codemirror_mode": {
    "name": "ipython",
    "version": 3
   },
   "file_extension": ".py",
   "mimetype": "text/x-python",
   "name": "python",
   "nbconvert_exporter": "python",
   "pygments_lexer": "ipython3",
   "version": "3.6.4"
  }
 },
 "nbformat": 4,
 "nbformat_minor": 2
}
