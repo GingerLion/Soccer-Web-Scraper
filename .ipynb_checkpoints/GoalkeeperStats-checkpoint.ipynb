{
 "cells": [
  {
   "cell_type": "code",
   "execution_count": 9,
   "metadata": {},
   "outputs": [],
   "source": [
    "from bs4 import BeautifulSoup\n",
    "import pandas as pd\n",
    "import numpy as np\n",
    "import requests\n",
    "from GeneralStats import GeneralStats\n",
    "\n",
    "class GoalkeeperStats(GeneralStats):\n",
    "    def __init__(self,league):\n",
    "        self.league = league\n",
    "        self.role = \"Goalkeeper\"\n",
    "        self.gk_urls = {\n",
    "            \"clean_sheets\": \"\",\n",
    "            \"goals_conceded\": \"\",\n",
    "            \"saves\": \"\",\n",
    "            \"penalties_saved\": \"\",\n",
    "            \"punches\": \"\",\n",
    "            \"high_claims\": \"\",\n",
    "            \"sweeper_clearances\": \"\",\n",
    "            \"throw_outs\": \"\",\n",
    "            \"goal_kicks\": \"\"\n",
    "        }\n",
    "        print(super().getStatsNames(self.role))"
   ]
  },
  {
   "cell_type": "code",
   "execution_count": 10,
   "metadata": {},
   "outputs": [
    {
     "name": "stdout",
     "output_type": "stream",
     "text": [
      "['Clean Sheets', 'Goals Conceded', 'Saves', 'Penalties Saved', 'Punches', 'High Claims', 'Sweeper Clearances', 'Throw Outs', 'Goal Kicks']\n"
     ]
    }
   ],
   "source": [
    "g = GoalkeeperStats('EN_PR')"
   ]
  },
  {
   "cell_type": "code",
   "execution_count": null,
   "metadata": {},
   "outputs": [],
   "source": []
  }
 ],
 "metadata": {
  "kernelspec": {
   "display_name": "Python(my_env)",
   "language": "python",
   "name": "myenv"
  },
  "language_info": {
   "codemirror_mode": {
    "name": "ipython",
    "version": 3
   },
   "file_extension": ".py",
   "mimetype": "text/x-python",
   "name": "python",
   "nbconvert_exporter": "python",
   "pygments_lexer": "ipython3",
   "version": "3.6.4"
  }
 },
 "nbformat": 4,
 "nbformat_minor": 2
}
