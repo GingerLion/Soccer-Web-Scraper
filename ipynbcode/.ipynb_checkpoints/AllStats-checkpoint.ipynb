{
 "cells": [
  {
   "cell_type": "code",
   "execution_count": null,
   "metadata": {},
   "outputs": [],
   "source": []
  },
  {
   "cell_type": "code",
   "execution_count": 3,
   "metadata": {},
   "outputs": [
    {
     "name": "stdout",
     "output_type": "stream",
     "text": [
      "<class 'pandas.core.frame.DataFrame'>\n",
      "Int64Index: 32 entries, 4985 to 11341\n",
      "Data columns (total 48 columns):\n",
      "Club                      32 non-null object\n",
      "Country                   32 non-null object\n",
      "Dob                       32 non-null object\n",
      "Name                      32 non-null object\n",
      "Position                  32 non-null object\n",
      "Role                      32 non-null object\n",
      "Shirtnum                  32 non-null float64\n",
      "Goals                     32 non-null float64\n",
      "Assists                   32 non-null float64\n",
      "Appearances               32 non-null int64\n",
      "Minutes Played            32 non-null int64\n",
      "Yellow Cards              32 non-null float64\n",
      "Red Cards                 32 non-null float64\n",
      "Substituted On            32 non-null float64\n",
      "Substituted Off           32 non-null float64\n",
      "Shots                     32 non-null float64\n",
      "Shots On Target           32 non-null float64\n",
      "Hit Woodwork              32 non-null float64\n",
      "Goals From Header         32 non-null float64\n",
      "Goals From Penalty        32 non-null float64\n",
      "Goals From Freekick       32 non-null float64\n",
      "Offsides                  32 non-null float64\n",
      "Touches                   32 non-null int64\n",
      "Passes                    32 non-null float64\n",
      "Through Balls             32 non-null float64\n",
      "Crosses                   32 non-null float64\n",
      "Corners Taken             32 non-null float64\n",
      "Blocks                    32 non-null float64\n",
      "Interceptions             32 non-null float64\n",
      "Tackles                   32 non-null float64\n",
      "Last Man Tackles          32 non-null float64\n",
      "Clearances                32 non-null float64\n",
      "Headed Clearances         32 non-null float64\n",
      "Aerial Battles Won        32 non-null float64\n",
      "Own Goals                 32 non-null float64\n",
      "Errors Leading To Goal    32 non-null float64\n",
      "Penalties Conceded        32 non-null float64\n",
      "Fouls                     32 non-null float64\n",
      "Aerial Battles Lost       32 non-null float64\n",
      "Clean Sheets              32 non-null float64\n",
      "Goals Conceded            32 non-null float64\n",
      "Saves                     32 non-null float64\n",
      "Penalties Saved           32 non-null float64\n",
      "Punches                   32 non-null float64\n",
      "High Claims               32 non-null float64\n",
      "Sweeper Clearances        32 non-null float64\n",
      "Throw Outs                32 non-null float64\n",
      "Goal Kicks                32 non-null int64\n",
      "dtypes: float64(38), int64(4), object(6)\n",
      "memory usage: 12.2+ KB\n"
     ]
    }
   ],
   "source": [
    "import import_ipynb\n",
    "import pandas as pd\n",
    "import numpy as np\n",
    "from PlayerInfo import PlayerInfo\n",
    "from generalstats import GeneralStats\n",
    "from AttackStats import AttackStats\n",
    "from DefenceStats import DefenceStats\n",
    "from GoalkeeperStats import GoalkeeperStats\n",
    "\n",
    "class AllStats:\n",
    "    def __init__(self,league):\n",
    "        self.league = league\n",
    "        self.objs = [\n",
    "                PlayerInfo(),\n",
    "                GeneralStats(self.league),\n",
    "                AttackStats(self.league),\n",
    "                DefenceStats(self.league),\n",
    "                GoalkeeperStats(self.league)\n",
    "        ]\n",
    "        self.dfs = [obj.df for obj in self.objs]\n",
    "        self.join_dfs()\n",
    "        \n",
    "    def join_dfs(self):\n",
    "        self.df = self.dfs[0].join(self.dfs[1:],how='outer')\n",
    "        self.df.fillna(0,inplace=True)\n",
    "        \n",
    "a = AllStats('EN_PR')\n",
    "a.df.info()\n"
   ]
  },
  {
   "cell_type": "code",
   "execution_count": 4,
   "metadata": {},
   "outputs": [],
   "source": [
    "a.df.to_excel(\"prem.xlsx\")"
   ]
  },
  {
   "cell_type": "code",
   "execution_count": null,
   "metadata": {},
   "outputs": [],
   "source": []
  },
  {
   "cell_type": "code",
   "execution_count": null,
   "metadata": {},
   "outputs": [],
   "source": []
  },
  {
   "cell_type": "code",
   "execution_count": null,
   "metadata": {},
   "outputs": [],
   "source": []
  },
  {
   "cell_type": "code",
   "execution_count": null,
   "metadata": {},
   "outputs": [],
   "source": []
  }
 ],
 "metadata": {
  "kernelspec": {
   "display_name": "Python(my_env)",
   "language": "python",
   "name": "myenv"
  },
  "language_info": {
   "codemirror_mode": {
    "name": "ipython",
    "version": 3
   },
   "file_extension": ".py",
   "mimetype": "text/x-python",
   "name": "python",
   "nbconvert_exporter": "python",
   "pygments_lexer": "ipython3",
   "version": "3.6.4"
  }
 },
 "nbformat": 4,
 "nbformat_minor": 2
}
