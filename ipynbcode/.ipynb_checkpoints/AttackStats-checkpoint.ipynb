{
 "cells": [
  {
   "cell_type": "code",
   "execution_count": 9,
   "metadata": {},
   "outputs": [
    {
     "ename": "TypeError",
     "evalue": "module.__init__() takes at most 2 arguments (3 given)",
     "output_type": "error",
     "traceback": [
      "\u001b[1;31m---------------------------------------------------------------------------\u001b[0m",
      "\u001b[1;31mTypeError\u001b[0m                                 Traceback (most recent call last)",
      "\u001b[1;32m<ipython-input-9-de96d4567d7f>\u001b[0m in \u001b[0;36m<module>\u001b[1;34m()\u001b[0m\n\u001b[0;32m      6\u001b[0m \u001b[1;32mfrom\u001b[0m \u001b[0mbs4\u001b[0m \u001b[1;32mimport\u001b[0m \u001b[0mBeautifulSoup\u001b[0m\u001b[1;33m\u001b[0m\u001b[0m\n\u001b[0;32m      7\u001b[0m \u001b[1;33m\u001b[0m\u001b[0m\n\u001b[1;32m----> 8\u001b[1;33m \u001b[1;32mclass\u001b[0m \u001b[0mAttackStats\u001b[0m\u001b[1;33m(\u001b[0m\u001b[0mGeneralStats\u001b[0m\u001b[1;33m)\u001b[0m\u001b[1;33m:\u001b[0m\u001b[1;33m\u001b[0m\u001b[0m\n\u001b[0m\u001b[0;32m      9\u001b[0m     \u001b[1;32mdef\u001b[0m \u001b[0m__init__\u001b[0m\u001b[1;33m(\u001b[0m\u001b[0mself\u001b[0m\u001b[1;33m,\u001b[0m\u001b[0mleague\u001b[0m\u001b[1;33m)\u001b[0m\u001b[1;33m:\u001b[0m\u001b[1;33m\u001b[0m\u001b[0m\n\u001b[0;32m     10\u001b[0m         \u001b[0mself\u001b[0m\u001b[1;33m.\u001b[0m\u001b[0mrole\u001b[0m \u001b[1;33m=\u001b[0m \u001b[1;34m\"Attack\"\u001b[0m\u001b[1;33m\u001b[0m\u001b[0m\n",
      "\u001b[1;31mTypeError\u001b[0m: module.__init__() takes at most 2 arguments (3 given)"
     ]
    }
   ],
   "source": [
    "import import_ipynb\n",
    "import requests\n",
    "import numpy as np\n",
    "import pandas as pd\n",
    "from GeneralStats import GeneralStats\n",
    "from bs4 import BeautifulSoup\n",
    "\n",
    "class AttackStats(GeneralStats):\n",
    "    def __init__(self,league):\n",
    "        self.role = \"Attack\"\n",
    "        self.league = league\n",
    "        self.attack_urls = {\n",
    "            \"shots\": \"https://footballapi.pulselive.com/football/stats/ranked/players/total_scoring_att?page=0&pageSize=20&compSeasons=274&comps=1&compCodeForActivePlayer=\"+self.league+\"&altIds=true\",\n",
    "            \"shots_on_target\": \"https://footballapi.pulselive.com/football/stats/ranked/players/ontarget_scoring_att?page=0&pageSize=20&compSeasons=274&comps=1&compCodeForActivePlayer=\"+self.league+\"&altIds=true\",\n",
    "            \"hit_woodwork\": \"https://footballapi.pulselive.com/football/stats/ranked/players/hit_woodwork?page=0&pageSize=20&compSeasons=274&comps=1&compCodeForActivePlayer=\"+self.league+\"&altIds=true\",\n",
    "            \"header_goals\": \"https://footballapi.pulselive.com/football/stats/ranked/players/att_hd_goal?page=0&pageSize=20&compSeasons=274&comps=1&compCodeForActivePlayer=\"+self.league+\"&altIds=true\",\n",
    "            \"penalty_goals\": \"https://footballapi.pulselive.com/football/stats/ranked/players/att_pen_goal?page=0&pageSize=20&compSeasons=274&comps=1&compCodeForActivePlayer=\"+self.league+\"&altIds=true\",\n",
    "            \"fk_goals\": \"https://footballapi.pulselive.com/football/stats/ranked/players/att_freekick_goal?page=0&pageSize=20&compSeasons=274&comps=1&compCodeForActivePlayer=\"+self.league+\"&altIds=true\",\n",
    "            \"offsides\": \"https://footballapi.pulselive.com/football/stats/ranked/players/total_offside?page=0&pageSize=20&compSeasons=274&comps=1&compCodeForActivePlayer=\"+self.league+\"&altIds=true\",\n",
    "            \"touches\": \"https://footballapi.pulselive.com/football/stats/ranked/players/touches?page=0&pageSize=20&compSeasons=274&comps=1&compCodeForActivePlayer=\"+self.league+\"&altIds=true\",\n",
    "            \"passes\": \"https://footballapi.pulselive.com/football/stats/ranked/players/total_pass?page=0&pageSize=20&compSeasons=274&comps=1&compCodeForActivePlayer=\"+self.league+\"&altIds=true\",\n",
    "            \"through_balls\": \"https://footballapi.pulselive.com/football/stats/ranked/players/total_through_ball?page=0&pageSize=20&compSeasons=274&comps=1&compCodeForActivePlayer=\"+self.league+\"&altIds=true\",\n",
    "            \"crosses\": \"https://footballapi.pulselive.com/football/stats/ranked/players/total_cross?page=0&pageSize=20&compSeasons=274&comps=1&compCodeForActivePlayer=\"+self.league+\"&altIds=true\",\n",
    "            \"corners\": \"https://footballapi.pulselive.com/football/stats/ranked/players/corner_taken?page=0&pageSize=20&compSeasons=274&comps=1&compCodeForActivePlayer=\"+self.league+\"&altIds=true\"\n",
    "        }\n",
    "        self.attack_info = {key:[] for key in self.attack_urls.keys()}\n",
    "        self.attack_info = super().parse_stats(self.attack_urls.keys(),super().get_(self.attack_urls))\n",
    "        self.df = super().create_df(self.attack_info,super().getStatsNames)\n",
    "        "
   ]
  },
  {
   "cell_type": "code",
   "execution_count": null,
   "metadata": {},
   "outputs": [],
   "source": [
    "a = AttackStats('EN_PR')"
   ]
  },
  {
   "cell_type": "code",
   "execution_count": null,
   "metadata": {},
   "outputs": [],
   "source": []
  },
  {
   "cell_type": "code",
   "execution_count": null,
   "metadata": {},
   "outputs": [],
   "source": []
  },
  {
   "cell_type": "code",
   "execution_count": null,
   "metadata": {},
   "outputs": [],
   "source": []
  },
  {
   "cell_type": "code",
   "execution_count": null,
   "metadata": {},
   "outputs": [],
   "source": []
  }
 ],
 "metadata": {
  "kernelspec": {
   "display_name": "Python(my_env)",
   "language": "python",
   "name": "myenv"
  },
  "language_info": {
   "codemirror_mode": {
    "name": "ipython",
    "version": 3
   },
   "file_extension": ".py",
   "mimetype": "text/x-python",
   "name": "python",
   "nbconvert_exporter": "python",
   "pygments_lexer": "ipython3",
   "version": "3.6.4"
  }
 },
 "nbformat": 4,
 "nbformat_minor": 2
}
