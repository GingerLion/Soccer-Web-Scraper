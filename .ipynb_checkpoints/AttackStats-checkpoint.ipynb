{
 "cells": [
  {
   "cell_type": "code",
   "execution_count": 76,
   "metadata": {},
   "outputs": [],
   "source": [
    "import requests\n",
    "import numpy as np\n",
    "import pandas as pd\n",
    "from GeneralStats import GeneralStats\n",
    "from bs4 import BeautifulSoup\n",
    "\n",
    "class AttackStats(GeneralStats):\n",
    "    def __init__(self,league):\n",
    "        self.role = \"Attack\"\n",
    "        self.league = league\n",
    "        self.attack_urls = {\n",
    "            \"shots\": \"https://footballapi.pulselive.com/football/stats/ranked/players/total_scoring_att?page=0&pageSize=20&compSeasons=274&comps=1&compCodeForActivePlayer=\"+self.league+\"&altIds=true\",\n",
    "            \"shots_on_target\": \"https://footballapi.pulselive.com/football/stats/ranked/players/ontarget_scoring_att?page=0&pageSize=20&compSeasons=274&comps=1&compCodeForActivePlayer=\"+self.league+\"&altIds=true\",\n",
    "            \"hit_woodwork\": \"https://footballapi.pulselive.com/football/stats/ranked/players/hit_woodwork?page=0&pageSize=20&compSeasons=274&comps=1&compCodeForActivePlayer=\"+self.league+\"&altIds=true\",\n",
    "            \"header_goals\": \"https://footballapi.pulselive.com/football/stats/ranked/players/att_hd_goal?page=0&pageSize=20&compSeasons=274&comps=1&compCodeForActivePlayer=\"+self.league+\"&altIds=true\",\n",
    "            \"penalty_goals\": \"https://footballapi.pulselive.com/football/stats/ranked/players/att_pen_goal?page=0&pageSize=20&compSeasons=274&comps=1&compCodeForActivePlayer=\"+self.league+\"&altIds=true\",\n",
    "            \"fk_goals\": \"https://footballapi.pulselive.com/football/stats/ranked/players/att_freekick_goal?page=0&pageSize=20&compSeasons=274&comps=1&compCodeForActivePlayer=\"+self.league+\"&altIds=true\",\n",
    "            \"offsides\": \"https://footballapi.pulselive.com/football/stats/ranked/players/total_offside?page=0&pageSize=20&compSeasons=274&comps=1&compCodeForActivePlayer=\"+self.league+\"&altIds=true\",\n",
    "            \"touches\": \"https://footballapi.pulselive.com/football/stats/ranked/players/touches?page=0&pageSize=20&compSeasons=274&comps=1&compCodeForActivePlayer=\"+self.league+\"&altIds=true\",\n",
    "            \"passes\": \"https://footballapi.pulselive.com/football/stats/ranked/players/total_pass?page=0&pageSize=20&compSeasons=274&comps=1&compCodeForActivePlayer=\"+self.league+\"&altIds=true\",\n",
    "            \"through_balls\": \"https://footballapi.pulselive.com/football/stats/ranked/players/total_through_ball?page=0&pageSize=20&compSeasons=274&comps=1&compCodeForActivePlayer=\"+self.league+\"&altIds=true\",\n",
    "            \"crosses\": \"https://footballapi.pulselive.com/football/stats/ranked/players/total_cross?page=0&pageSize=20&compSeasons=274&comps=1&compCodeForActivePlayer=\"+self.league+\"&altIds=true\",\n",
    "            \"corners\": \"https://footballapi.pulselive.com/football/stats/ranked/players/corner_taken?page=0&pageSize=20&compSeasons=274&comps=1&compCodeForActivePlayer=\"+self.league+\"&altIds=true\"\n",
    "        }\n",
    "        self.attack_info = {key:[] for key in self.attack_urls.keys()}\n",
    "        self.attack_info = super().parse_stats(self.attack_urls.keys(),super().get_(self.attack_urls))\n",
    "        self.df = super().create_df(self.attack_info,super().getStatsNames)\n",
    "        \n",
    "    def create_df(self, stat):\n",
    "        list_of_ids = {key:[] for key in stat}\n",
    "        list_of_vals = {key:[] for key in stat}\n",
    "        \n",
    "        # collect ids & values from instance dictionary \n",
    "        for s in list_of_ids.keys():\n",
    "            for val in self.attack_info[s]:\n",
    "                list_of_ids[s].append(val[0])\n",
    "                list_of_vals[s].append(val[1])\n",
    "            \n",
    "        # create dataframes\n",
    "        shots_df = pd.DataFrame(index=list_of_ids['shots'],columns=['Shots'])\n",
    "        sot_df = pd.DataFrame(index=list_of_ids['shots_on_target'],columns=['Shots On Target'])\n",
    "        hw_df = pd.DataFrame(index=list_of_ids['hit_woodwork'],columns=['Hit Woodwork'])\n",
    "        hg_df = pd.DataFrame(index=list_of_ids['header_goals'],columns=['Header Goals'])\n",
    "        pg_df = pd.DataFrame(index=list_of_ids['penalty_goals'],columns=['Penalty Goals'])\n",
    "        fkg_df = pd.DataFrame(index=list_of_ids['fk_goals'],columns=['Free Kick Goals'])\n",
    "        offsides_df = pd.DataFrame(index=list_of_ids['offsides'],columns=['Offsides'])\n",
    "        touches_df = pd.DataFrame(index=list_of_ids['touches'],columns=['Touches'])\n",
    "        passes_df = pd.DataFrame(index=list_of_ids['passes'],columns=['Passes'])\n",
    "        tb_df = pd.DataFrame(index=list_of_ids['through_balls'],columns=['Through Balls'])\n",
    "        crosses_df = pd.DataFrame(index=list_of_ids['crosses'],columns=['Crosses'])\n",
    "        corners_df = pd.DataFrame(index=list_of_ids['corners'],columns=['Corners'])\n",
    "        \n",
    "        # fill dataframes\n",
    "        dfs = [shots_df,sot_df,hw_df,hg_df,pg_df,fkg_df,offsides_df,touches_df,passes_df,tb_df,crosses_df,corners_df]\n",
    "        for df,keys in zip(dfs,list_of_vals.keys()):\n",
    "            df[df.columns[0]] = list(map(int,list_of_vals[keys]))\n",
    "            \n",
    "        # join dataframes\n",
    "        self.att_df = dfs[0].join(dfs[1:],how='outer')\n",
    "        # replace NaNs\n",
    "        self.att_df.fillna(0,inplace=True)"
   ]
  },
  {
   "cell_type": "code",
   "execution_count": 77,
   "metadata": {},
   "outputs": [
    {
     "ename": "AttributeError",
     "evalue": "'super' object has no attribute 'create_df'",
     "output_type": "error",
     "traceback": [
      "\u001b[1;31m---------------------------------------------------------------------------\u001b[0m",
      "\u001b[1;31mAttributeError\u001b[0m                            Traceback (most recent call last)",
      "\u001b[1;32m<ipython-input-77-8272c81ebcd5>\u001b[0m in \u001b[0;36m<module>\u001b[1;34m()\u001b[0m\n\u001b[1;32m----> 1\u001b[1;33m \u001b[0ma\u001b[0m \u001b[1;33m=\u001b[0m \u001b[0mAttackStats\u001b[0m\u001b[1;33m(\u001b[0m\u001b[1;34m'EN_PR'\u001b[0m\u001b[1;33m)\u001b[0m\u001b[1;33m\u001b[0m\u001b[0m\n\u001b[0m\u001b[0;32m      2\u001b[0m \u001b[0ma\u001b[0m\u001b[1;33m.\u001b[0m\u001b[0mdf\u001b[0m\u001b[1;33m\u001b[0m\u001b[0m\n",
      "\u001b[1;32m<ipython-input-76-76ce2c0a9490>\u001b[0m in \u001b[0;36m__init__\u001b[1;34m(self, league)\u001b[0m\n\u001b[0;32m     25\u001b[0m         \u001b[0mself\u001b[0m\u001b[1;33m.\u001b[0m\u001b[0mattack_info\u001b[0m \u001b[1;33m=\u001b[0m \u001b[1;33m{\u001b[0m\u001b[0mkey\u001b[0m\u001b[1;33m:\u001b[0m\u001b[1;33m[\u001b[0m\u001b[1;33m]\u001b[0m \u001b[1;32mfor\u001b[0m \u001b[0mkey\u001b[0m \u001b[1;32min\u001b[0m \u001b[0mself\u001b[0m\u001b[1;33m.\u001b[0m\u001b[0mattack_urls\u001b[0m\u001b[1;33m.\u001b[0m\u001b[0mkeys\u001b[0m\u001b[1;33m(\u001b[0m\u001b[1;33m)\u001b[0m\u001b[1;33m}\u001b[0m\u001b[1;33m\u001b[0m\u001b[0m\n\u001b[0;32m     26\u001b[0m         \u001b[0mself\u001b[0m\u001b[1;33m.\u001b[0m\u001b[0mattack_info\u001b[0m \u001b[1;33m=\u001b[0m \u001b[0msuper\u001b[0m\u001b[1;33m(\u001b[0m\u001b[1;33m)\u001b[0m\u001b[1;33m.\u001b[0m\u001b[0mparse_stats\u001b[0m\u001b[1;33m(\u001b[0m\u001b[0mself\u001b[0m\u001b[1;33m.\u001b[0m\u001b[0mattack_urls\u001b[0m\u001b[1;33m.\u001b[0m\u001b[0mkeys\u001b[0m\u001b[1;33m(\u001b[0m\u001b[1;33m)\u001b[0m\u001b[1;33m,\u001b[0m\u001b[0msuper\u001b[0m\u001b[1;33m(\u001b[0m\u001b[1;33m)\u001b[0m\u001b[1;33m.\u001b[0m\u001b[0mget_\u001b[0m\u001b[1;33m(\u001b[0m\u001b[0mself\u001b[0m\u001b[1;33m.\u001b[0m\u001b[0mattack_urls\u001b[0m\u001b[1;33m)\u001b[0m\u001b[1;33m)\u001b[0m\u001b[1;33m\u001b[0m\u001b[0m\n\u001b[1;32m---> 27\u001b[1;33m         \u001b[0mself\u001b[0m\u001b[1;33m.\u001b[0m\u001b[0mdf\u001b[0m \u001b[1;33m=\u001b[0m \u001b[0msuper\u001b[0m\u001b[1;33m(\u001b[0m\u001b[1;33m)\u001b[0m\u001b[1;33m.\u001b[0m\u001b[0mcreate_df\u001b[0m\u001b[1;33m(\u001b[0m\u001b[0mself\u001b[0m\u001b[1;33m.\u001b[0m\u001b[0mattack_info\u001b[0m\u001b[1;33m,\u001b[0m\u001b[0msuper\u001b[0m\u001b[1;33m(\u001b[0m\u001b[1;33m)\u001b[0m\u001b[1;33m.\u001b[0m\u001b[0mgetStatsNames\u001b[0m\u001b[1;33m)\u001b[0m\u001b[1;33m\u001b[0m\u001b[0m\n\u001b[0m\u001b[0;32m     28\u001b[0m \u001b[1;33m\u001b[0m\u001b[0m\n\u001b[0;32m     29\u001b[0m     \u001b[1;32mdef\u001b[0m \u001b[0mcreate_df\u001b[0m\u001b[1;33m(\u001b[0m\u001b[0mself\u001b[0m\u001b[1;33m,\u001b[0m \u001b[0mstat\u001b[0m\u001b[1;33m)\u001b[0m\u001b[1;33m:\u001b[0m\u001b[1;33m\u001b[0m\u001b[0m\n",
      "\u001b[1;31mAttributeError\u001b[0m: 'super' object has no attribute 'create_df'"
     ]
    }
   ],
   "source": [
    "a = AttackStats('EN_PR')\n",
    "a.df"
   ]
  },
  {
   "cell_type": "code",
   "execution_count": 23,
   "metadata": {},
   "outputs": [],
   "source": [
    "url = \"https://www.premierleague.com/stats/top/players/goals?se=274\"\n",
    "from bs4 import BeautifulSoup"
   ]
  },
  {
   "cell_type": "code",
   "execution_count": 64,
   "metadata": {},
   "outputs": [],
   "source": [
    "def getStatsNames(role,url):\n",
    "    r = requests.get(url)\n",
    "    bs = BeautifulSoup(r.content,'html.parser')\n",
    "    navs = bs.find_all(\"nav\",{\"class\":\"moreStatsMenu\"})\n",
    "    nav_idx = None\n",
    "    statsNames = []\n",
    "    for i,nav in zip(range(len(navs)),navs):\n",
    "        if nav.find(\"h3\",{\"class\":\"subHeader\"}).text == role:\n",
    "            nav_idx = i\n",
    "        \n",
    "    stats = navs[nav_idx].find_all(\"a\")\n",
    "    for s in stats:\n",
    "        statsNames.append(s.text.strip())\n",
    "    return statsNames\n"
   ]
  },
  {
   "cell_type": "code",
   "execution_count": 69,
   "metadata": {},
   "outputs": [
    {
     "data": {
      "text/plain": [
       "['Clean Sheets',\n",
       " 'Goals Conceded',\n",
       " 'Saves',\n",
       " 'Penalties Saved',\n",
       " 'Punches',\n",
       " 'High Claims',\n",
       " 'Sweeper Clearances',\n",
       " 'Throw Outs',\n",
       " 'Goal Kicks']"
      ]
     },
     "execution_count": 69,
     "metadata": {},
     "output_type": "execute_result"
    }
   ],
   "source": [
    "stats = getStatsNames(\"Goalkeeper\",url)\n",
    "stats"
   ]
  },
  {
   "cell_type": "code",
   "execution_count": null,
   "metadata": {},
   "outputs": [],
   "source": []
  }
 ],
 "metadata": {
  "kernelspec": {
   "display_name": "Python(my_env)",
   "language": "python",
   "name": "myenv"
  },
  "language_info": {
   "codemirror_mode": {
    "name": "ipython",
    "version": 3
   },
   "file_extension": ".py",
   "mimetype": "text/x-python",
   "name": "python",
   "nbconvert_exporter": "python",
   "pygments_lexer": "ipython3",
   "version": "3.6.4"
  }
 },
 "nbformat": 4,
 "nbformat_minor": 2
}
