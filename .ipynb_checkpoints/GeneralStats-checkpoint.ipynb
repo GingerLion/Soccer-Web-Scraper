{
 "cells": [
  {
   "cell_type": "code",
   "execution_count": 58,
   "metadata": {
    "scrolled": true
   },
   "outputs": [
    {
     "ename": "TypeError",
     "evalue": "int() argument must be a string, a bytes-like object or a number, not 'list'",
     "output_type": "error",
     "traceback": [
      "\u001b[1;31m---------------------------------------------------------------------------\u001b[0m",
      "\u001b[1;31mTypeError\u001b[0m                                 Traceback (most recent call last)",
      "\u001b[1;32m<ipython-input-58-ab0d1271df15>\u001b[0m in \u001b[0;36m<module>\u001b[1;34m()\u001b[0m\n\u001b[0;32m    120\u001b[0m         \u001b[0mself\u001b[0m\u001b[1;33m.\u001b[0m\u001b[0mgs\u001b[0m\u001b[1;33m.\u001b[0m\u001b[0mreplace\u001b[0m\u001b[1;33m(\u001b[0m\u001b[0mNaN\u001b[0m\u001b[1;33m,\u001b[0m\u001b[1;36m0\u001b[0m\u001b[1;33m,\u001b[0m\u001b[0minplace\u001b[0m\u001b[1;33m=\u001b[0m\u001b[1;32mTrue\u001b[0m\u001b[1;33m)\u001b[0m\u001b[1;33m\u001b[0m\u001b[0m\n\u001b[0;32m    121\u001b[0m \u001b[1;33m\u001b[0m\u001b[0m\n\u001b[1;32m--> 122\u001b[1;33m \u001b[0mg\u001b[0m \u001b[1;33m=\u001b[0m \u001b[0mGeneralStats\u001b[0m\u001b[1;33m(\u001b[0m\u001b[1;34m'EN_PR'\u001b[0m\u001b[1;33m)\u001b[0m\u001b[1;33m\u001b[0m\u001b[0m\n\u001b[0m\u001b[0;32m    123\u001b[0m \u001b[0mg\u001b[0m\u001b[1;33m.\u001b[0m\u001b[0mgs\u001b[0m\u001b[1;33m\u001b[0m\u001b[0m\n\u001b[0;32m    124\u001b[0m \u001b[1;33m\u001b[0m\u001b[0m\n",
      "\u001b[1;32m<ipython-input-58-ab0d1271df15>\u001b[0m in \u001b[0;36m__init__\u001b[1;34m(self, league)\u001b[0m\n\u001b[0;32m     31\u001b[0m         }\n\u001b[0;32m     32\u001b[0m         \u001b[0mself\u001b[0m\u001b[1;33m.\u001b[0m\u001b[0mparse_stats\u001b[0m\u001b[1;33m(\u001b[0m\u001b[0mself\u001b[0m\u001b[1;33m.\u001b[0m\u001b[0mgeneral_info\u001b[0m\u001b[1;33m.\u001b[0m\u001b[0mkeys\u001b[0m\u001b[1;33m(\u001b[0m\u001b[1;33m)\u001b[0m\u001b[1;33m)\u001b[0m\u001b[1;33m\u001b[0m\u001b[0m\n\u001b[1;32m---> 33\u001b[1;33m         \u001b[0mself\u001b[0m\u001b[1;33m.\u001b[0m\u001b[0mcreate_gs_df\u001b[0m\u001b[1;33m(\u001b[0m\u001b[1;33m)\u001b[0m\u001b[1;33m\u001b[0m\u001b[0m\n\u001b[0m\u001b[0;32m     34\u001b[0m \u001b[1;33m\u001b[0m\u001b[0m\n\u001b[0;32m     35\u001b[0m     \u001b[1;32mdef\u001b[0m \u001b[0mlist_content_empty\u001b[0m\u001b[1;33m(\u001b[0m\u001b[0mself\u001b[0m\u001b[1;33m,\u001b[0m\u001b[0mli\u001b[0m\u001b[1;33m)\u001b[0m\u001b[1;33m:\u001b[0m\u001b[1;33m\u001b[0m\u001b[0m\n",
      "\u001b[1;32m<ipython-input-58-ab0d1271df15>\u001b[0m in \u001b[0;36mcreate_gs_df\u001b[1;34m(self)\u001b[0m\n\u001b[0;32m    113\u001b[0m         \u001b[0mdfs\u001b[0m \u001b[1;33m=\u001b[0m \u001b[1;33m[\u001b[0m\u001b[0mgoals_df\u001b[0m\u001b[1;33m,\u001b[0m\u001b[0massists_df\u001b[0m\u001b[1;33m,\u001b[0m\u001b[0mapps_df\u001b[0m\u001b[1;33m,\u001b[0m\u001b[0mmins_df\u001b[0m\u001b[1;33m,\u001b[0m\u001b[0myellows_df\u001b[0m\u001b[1;33m,\u001b[0m\u001b[0mreds_df\u001b[0m\u001b[1;33m,\u001b[0m\u001b[0msub_on_df\u001b[0m\u001b[1;33m,\u001b[0m\u001b[0msub_off_df\u001b[0m\u001b[1;33m]\u001b[0m\u001b[1;33m\u001b[0m\u001b[0m\n\u001b[0;32m    114\u001b[0m         \u001b[1;32mfor\u001b[0m \u001b[0mdf\u001b[0m\u001b[1;33m,\u001b[0m\u001b[0mkeys\u001b[0m \u001b[1;32min\u001b[0m \u001b[0mzip\u001b[0m\u001b[1;33m(\u001b[0m\u001b[0mdfs\u001b[0m\u001b[1;33m,\u001b[0m\u001b[0mlist_of_vals\u001b[0m\u001b[1;33m.\u001b[0m\u001b[0mkeys\u001b[0m\u001b[1;33m(\u001b[0m\u001b[1;33m)\u001b[0m\u001b[1;33m)\u001b[0m\u001b[1;33m:\u001b[0m\u001b[1;33m\u001b[0m\u001b[0m\n\u001b[1;32m--> 115\u001b[1;33m             \u001b[0mdf\u001b[0m\u001b[1;33m[\u001b[0m\u001b[0mdf\u001b[0m\u001b[1;33m.\u001b[0m\u001b[0mcolumns\u001b[0m\u001b[1;33m[\u001b[0m\u001b[1;36m0\u001b[0m\u001b[1;33m]\u001b[0m\u001b[1;33m]\u001b[0m \u001b[1;33m=\u001b[0m \u001b[0mint\u001b[0m\u001b[1;33m(\u001b[0m\u001b[0mlist_of_vals\u001b[0m\u001b[1;33m[\u001b[0m\u001b[0mkeys\u001b[0m\u001b[1;33m]\u001b[0m\u001b[1;33m)\u001b[0m\u001b[1;33m\u001b[0m\u001b[0m\n\u001b[0m\u001b[0;32m    116\u001b[0m \u001b[1;33m\u001b[0m\u001b[0m\n\u001b[0;32m    117\u001b[0m         \u001b[1;31m# join dataframes\u001b[0m\u001b[1;33m\u001b[0m\u001b[1;33m\u001b[0m\u001b[0m\n",
      "\u001b[1;31mTypeError\u001b[0m: int() argument must be a string, a bytes-like object or a number, not 'list'"
     ]
    }
   ],
   "source": [
    "import requests\n",
    "from PlayerInfo import PlayerInfo\n",
    "from copy import deepcopy\n",
    "import pandas as pd\n",
    "import numpy as np\n",
    "\n",
    "class GeneralStats:\n",
    "    \n",
    "    def __init__(self,league):\n",
    "        self.pi = PlayerInfo() # not permanent one class will be composed of all types of stats\n",
    "        self.league = league\n",
    "        self.general_info = {\n",
    "            \"goals\": [],\n",
    "            \"assists\": [],\n",
    "            \"apps\": [],\n",
    "            \"mins\": [],\n",
    "            \"yellows\": [],\n",
    "            \"reds\": [],\n",
    "            \"sub_on\": [],\n",
    "            \"sub_off\": []\n",
    "        }\n",
    "        self.general_urls = {\n",
    "            \"goals\" : \"https://footballapi.pulselive.com/football/stats/ranked/players/goals?page=0&pageSize=20&compSeasons=274&comps=1&compCodeForActivePlayer=\" + self.league + \"&altIds=true\",\n",
    "            \"assists\" : \"https://footballapi.pulselive.com/football/stats/ranked/players/goal_assist?page=0&pageSize=20&compSeasons=274&comps=1&compCodeForActivePlayer=\"+self.league+\"&altIds=true\",\n",
    "            \"apps\" : \"https://footballapi.pulselive.com/football/stats/ranked/players/appearances?page=0&pageSize=20&compSeasons=274&comps=1&compCodeForActivePlayer=\"+self.league+\"&altIds=true\",\n",
    "            \"mins\" : \"https://footballapi.pulselive.com/football/stats/ranked/players/mins_played?page=0&pageSize=20&compSeasons=274&comps=1&compCodeForActivePlayer=\"+self.league+\"&altIds=true\",\n",
    "            \"yellows\" : \"https://footballapi.pulselive.com/football/stats/ranked/players/yellow_card?page=0&pageSize=20&compSeasons=274&comps=1&compCodeForActivePlayer=\"+self.league+\"&altIds=true\",\n",
    "            \"reds\" : \"https://footballapi.pulselive.com/football/stats/ranked/players/red_card?page=0&pageSize=20&compSeasons=274&comps=1&compCodeForActivePlayer=\"+self.league+\"&altIds=true\",\n",
    "            \"sub_on\" : \"https://footballapi.pulselive.com/football/stats/ranked/players/total_sub_on?page=0&pageSize=20&compSeasons=274&comps=1&compCodeForActivePlayer=\"+self.league+\"&altIds=true\",\n",
    "            \"sub_off\" : \"https://footballapi.pulselive.com/football/stats/ranked/players/total_sub_off?page=0&pageSize=20&compSeasons=274&comps=1&compCodeForActivePlayer=\"+self.league+\"&altIds=true\"\n",
    "        }\n",
    "        self.parse_stats(self.general_info.keys())\n",
    "        self.create_gs_df()\n",
    "        \n",
    "    def list_content_empty(self,li):\n",
    "        \"\"\"check if the end of json data is reached\"\"\"\n",
    "        if not li['stats']['content']:\n",
    "            return True\n",
    "        else:\n",
    "            return False\n",
    "    \n",
    "    def get_(self,stat):\n",
    "        i = 0\n",
    "        response = dict()\n",
    "        ls_responses = []\n",
    "        while True:\n",
    "            if i > 0: # alter GET message to change pages\n",
    "                self.general_urls[stat] = self.general_urls[stat].replace(f'page={i-1}',f'page={i}')\n",
    "                response = requests.get(self.general_urls[stat]).json()\n",
    "            else:\n",
    "                response = requests.get(self.general_urls[stat]).json()\n",
    "            # if no more content\n",
    "            if self.list_content_empty(response):\n",
    "                break\n",
    "            #print(response)\n",
    "            ls_responses.append(response)\n",
    "            i = i+1\n",
    "            response = dict()\n",
    "        return ls_responses\n",
    "    \n",
    "    def parse_stats(self,stat):\n",
    "            \"\"\"\n",
    "            Input: list of stat field names\n",
    "            Process: parses json data from the api and stores it in\n",
    "            the corresponding instance variables\n",
    "            Output: None\n",
    "            \"\"\"\n",
    "            for s in stat:\n",
    "                pages = self.get_(s)\n",
    "                for page in pages:\n",
    "                    for player in range(len(page['stats']['content'])):\n",
    "                        self.general_info[s].append(tuple((int(page['stats']['content'][player]['owner']['playerId']),int(page['stats']['content'][player]['value']))))\n",
    "                       \n",
    "    \n",
    "    def create_gs_df(self):\n",
    "        list_of_ids = {\n",
    "                \"goals\": [],\n",
    "                \"assists\": [],\n",
    "                \"apps\": [],\n",
    "                \"mins\": [],\n",
    "                \"yellows\": [],\n",
    "                \"reds\": [],\n",
    "                \"sub_on\": [],\n",
    "                \"sub_off\": []\n",
    "                }\n",
    "        list_of_vals = {\n",
    "                \"goals\": [],\n",
    "                \"assists\": [],\n",
    "                \"apps\": [],\n",
    "                \"mins\": [],\n",
    "                \"yellows\": [],\n",
    "                \"reds\": [],\n",
    "                \"sub_on\": [],\n",
    "                \"sub_off\": []\n",
    "                }\n",
    "        # collect ids & values from instance dictionary \"general_info\"\n",
    "        for s in list_of_ids.keys():\n",
    "            for val in self.general_info[s]:\n",
    "                list_of_ids[s].append(val[0])\n",
    "                list_of_vals[s].append(val[1])\n",
    "            \n",
    "        # create dataframes\n",
    "        goals_df = pd.DataFrame(index=list_of_ids['goals'],columns=['Goals'])\n",
    "        assists_df = pd.DataFrame(index=list_of_ids['assists'],columns=['Assists'])\n",
    "        apps_df = pd.DataFrame(index=list_of_ids['apps'],columns=['Appearances'])\n",
    "        mins_df = pd.DataFrame(index=list_of_ids['mins'],columns=['Minutes Played'])\n",
    "        yellows_df = pd.DataFrame(index=list_of_ids['yellows'],columns=['Yellow Cards'])\n",
    "        reds_df = pd.DataFrame(index=list_of_ids['reds'],columns=['Red Cards'])\n",
    "        sub_on_df = pd.DataFrame(index=list_of_ids['sub_on'],columns=['Subbed On'])\n",
    "        sub_off_df = pd.DataFrame(index=list_of_ids['sub_off'],columns=['Subbed Off'])\n",
    "        \n",
    "        # fill dataframes\n",
    "        dfs = [goals_df,assists_df,apps_df,mins_df,yellows_df,reds_df,sub_on_df,sub_off_df]\n",
    "        for df,keys in zip(dfs,list_of_vals.keys()):\n",
    "            df[df.columns[0]] = list(map(int,list_of_vals[keys]))\n",
    "            \n",
    "        # join dataframes\n",
    "        self.gs = dfs[0].join(dfs[1:],how='outer')\n",
    "        # replace NaNs\n",
    "        self.gs.replace(NaN,0,inplace=True)\n",
    "                \n",
    "g = GeneralStats('EN_PR')\n",
    "g.gs\n",
    "\n",
    "        "
   ]
  },
  {
   "cell_type": "code",
   "execution_count": null,
   "metadata": {},
   "outputs": [],
   "source": [
    "for s in g.general_urls.keys():\n",
    "    print(s)"
   ]
  },
  {
   "cell_type": "code",
   "execution_count": 14,
   "metadata": {},
   "outputs": [],
   "source": [
    "r = requests.get(\"https://footballapi.pulselive.com/football/stats/ranked/players/appearances?page=1&pageSize=20&compSeasons=274&comps=1&compCodeForActivePlayer=EN_PR&altIds=true\")"
   ]
  },
  {
   "cell_type": "code",
   "execution_count": 16,
   "metadata": {},
   "outputs": [
    {
     "data": {
      "text/plain": [
       "22.0"
      ]
     },
     "execution_count": 16,
     "metadata": {},
     "output_type": "execute_result"
    }
   ],
   "source": [
    "r.json()['stats']['content'][15]['value']\n",
    "#vardy = r.json()['stats']['content'][0]['owner']['playerId'], r.json()['stats']['content'][0]['value']\n"
   ]
  },
  {
   "cell_type": "code",
   "execution_count": 47,
   "metadata": {},
   "outputs": [
    {
     "data": {
      "text/plain": [
       "20"
      ]
     },
     "execution_count": 47,
     "metadata": {},
     "output_type": "execute_result"
    }
   ],
   "source": [
    "len(r.json()['stats']['content'])"
   ]
  },
  {
   "cell_type": "code",
   "execution_count": 54,
   "metadata": {},
   "outputs": [
    {
     "name": "stdout",
     "output_type": "stream",
     "text": [
      "True\n"
     ]
    }
   ],
   "source": [
    "a = [1, 1, 1]\n",
    "b = [2, 1, 2]\n",
    "for i,j in zip(a,b):\n",
    "    if i == j:\n",
    "        print(\"True\")"
   ]
  },
  {
   "cell_type": "code",
   "execution_count": null,
   "metadata": {},
   "outputs": [],
   "source": []
  }
 ],
 "metadata": {
  "kernelspec": {
   "display_name": "Python(my_env)",
   "language": "python",
   "name": "myenv"
  },
  "language_info": {
   "codemirror_mode": {
    "name": "ipython",
    "version": 3
   },
   "file_extension": ".py",
   "mimetype": "text/x-python",
   "name": "python",
   "nbconvert_exporter": "python",
   "pygments_lexer": "ipython3",
   "version": "3.6.4"
  }
 },
 "nbformat": 4,
 "nbformat_minor": 2
}
