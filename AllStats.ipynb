{
 "cells": [
  {
   "cell_type": "code",
   "execution_count": 7,
   "metadata": {},
   "outputs": [
    {
     "data": {
      "text/plain": [
       "Index(['club', 'country', 'dob', 'name', 'position', 'role', 'shirtNum',\n",
       "       'Goals', 'Assists', 'Appearances', 'Minutes Played', 'Yellow Cards',\n",
       "       'Red Cards', 'Substituted On', 'Substituted Off', 'Shots',\n",
       "       'Shots On Target', 'Hit Woodwork', 'Goals From Header',\n",
       "       'Goals From Penalty', 'Goals From Freekick', 'Offsides', 'Touches',\n",
       "       'Passes', 'Through Balls', 'Crosses', 'Corners Taken', 'Blocks',\n",
       "       'Interceptions', 'Tackles', 'Last Man Tackles', 'Clearances',\n",
       "       'Headed Clearances', 'Aerial Battles Won', 'Own Goals',\n",
       "       'Errors Leading To Goal', 'Penalties Conceded', 'Fouls',\n",
       "       'Aerial Battles Lost', 'Clean Sheets', 'Goals Conceded', 'Saves',\n",
       "       'Penalties Saved', 'Punches', 'High Claims', 'Sweeper Clearances',\n",
       "       'Throw Outs', 'Goal Kicks'],\n",
       "      dtype='object')"
      ]
     },
     "execution_count": 7,
     "metadata": {},
     "output_type": "execute_result"
    }
   ],
   "source": [
    "import pandas as pd\n",
    "import numpy as np\n",
    "from PlayerInfo import PlayerInfo\n",
    "from GeneralStats import GeneralStats\n",
    "from AttackStats import AttackStats\n",
    "from DefenceStats import DefenceStats\n",
    "from GoalkeeperStats import GoalkeeperStats\n",
    "\n",
    "class AllStats:\n",
    "    def __init__(self,league):\n",
    "        self.league = league\n",
    "        self.objs = [\n",
    "                PlayerInfo(),\n",
    "                GeneralStats(self.league),\n",
    "                AttackStats(self.league),\n",
    "                DefenceStats(self.league),\n",
    "                GoalkeeperStats(self.league)\n",
    "        ]\n",
    "        self.dfs = [obj.df for obj in self.objs]\n",
    "        self.join_dfs()\n",
    "        \n",
    "    def join_dfs(self):\n",
    "        self.df = self.dfs[0].join(self.dfs[1:],how='outer')\n",
    "        self.df.fillna(0,inplace=True)\n",
    "        \n",
    "a = AllStats('EN_PR')\n",
    "a.df.columns\n"
   ]
  },
  {
   "cell_type": "code",
   "execution_count": null,
   "metadata": {},
   "outputs": [],
   "source": []
  }
 ],
 "metadata": {
  "kernelspec": {
   "display_name": "Python(my_env)",
   "language": "python",
   "name": "myenv"
  },
  "language_info": {
   "codemirror_mode": {
    "name": "ipython",
    "version": 3
   },
   "file_extension": ".py",
   "mimetype": "text/x-python",
   "name": "python",
   "nbconvert_exporter": "python",
   "pygments_lexer": "ipython3",
   "version": "3.6.4"
  }
 },
 "nbformat": 4,
 "nbformat_minor": 2
}
