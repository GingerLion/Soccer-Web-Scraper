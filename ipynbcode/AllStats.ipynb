{
 "cells": [
  {
   "cell_type": "code",
   "execution_count": null,
   "metadata": {},
   "outputs": [],
   "source": []
  },
  {
   "cell_type": "code",
   "execution_count": 6,
   "metadata": {},
   "outputs": [
    {
     "name": "stdout",
     "output_type": "stream",
     "text": [
      "<class 'pandas.core.frame.DataFrame'>\n",
      "Int64Index: 623 entries, 4985 to 11362\n",
      "Data columns (total 48 columns):\n",
      "Club                      623 non-null object\n",
      "Country                   623 non-null object\n",
      "Dob                       623 non-null object\n",
      "Name                      623 non-null object\n",
      "Position                  623 non-null object\n",
      "Role                      623 non-null object\n",
      "Shirtnum                  623 non-null float64\n",
      "Goals                     623 non-null float64\n",
      "Assists                   623 non-null float64\n",
      "Appearances               623 non-null float64\n",
      "Minutes Played            623 non-null float64\n",
      "Yellow Cards              623 non-null float64\n",
      "Red Cards                 623 non-null float64\n",
      "Substituted On            623 non-null float64\n",
      "Substituted Off           623 non-null float64\n",
      "Shots                     623 non-null float64\n",
      "Shots On Target           623 non-null float64\n",
      "Hit Woodwork              623 non-null float64\n",
      "Goals From Header         623 non-null float64\n",
      "Goals From Penalty        623 non-null float64\n",
      "Goals From Freekick       623 non-null float64\n",
      "Offsides                  623 non-null float64\n",
      "Touches                   623 non-null float64\n",
      "Passes                    623 non-null float64\n",
      "Through Balls             623 non-null float64\n",
      "Crosses                   623 non-null float64\n",
      "Corners Taken             623 non-null float64\n",
      "Blocks                    623 non-null float64\n",
      "Interceptions             623 non-null float64\n",
      "Tackles                   623 non-null float64\n",
      "Last Man Tackles          623 non-null float64\n",
      "Clearances                623 non-null float64\n",
      "Headed Clearances         623 non-null float64\n",
      "Aerial Battles Won        623 non-null float64\n",
      "Own Goals                 623 non-null float64\n",
      "Errors Leading To Goal    623 non-null float64\n",
      "Penalties Conceded        623 non-null float64\n",
      "Fouls                     623 non-null float64\n",
      "Aerial Battles Lost       623 non-null float64\n",
      "Clean Sheets              623 non-null float64\n",
      "Goals Conceded            623 non-null float64\n",
      "Saves                     623 non-null float64\n",
      "Penalties Saved           623 non-null float64\n",
      "Punches                   623 non-null float64\n",
      "High Claims               623 non-null float64\n",
      "Sweeper Clearances        623 non-null float64\n",
      "Throw Outs                623 non-null float64\n",
      "Goal Kicks                623 non-null float64\n",
      "dtypes: float64(42), object(6)\n",
      "memory usage: 258.5+ KB\n"
     ]
    }
   ],
   "source": [
    "import import_ipynb\n",
    "import pandas as pd\n",
    "import numpy as np\n",
    "from PlayerInfo import PlayerInfo\n",
    "from generalstats import GeneralStats\n",
    "from AttackStats import AttackStats\n",
    "from DefenceStats import DefenceStats\n",
    "from GoalkeeperStats import GoalkeeperStats\n",
    "\n",
    "class AllStats:\n",
    "    def __init__(self,league):\n",
    "        self.league = league\n",
    "        self.objs = [\n",
    "                PlayerInfo(),\n",
    "                GeneralStats(self.league),\n",
    "                AttackStats(self.league),\n",
    "                DefenceStats(self.league),\n",
    "                GoalkeeperStats(self.league)\n",
    "        ]\n",
    "        self.dfs = [obj.df for obj in self.objs]\n",
    "        self.join_dfs()\n",
    "        \n",
    "    def join_dfs(self):\n",
    "        self.df = self.dfs[0].join(self.dfs[1:],how='left')\n",
    "        self.df.fillna(0,inplace=True)\n",
    "        \n",
    "a = AllStats('EN_PR')\n",
    "a.df.info()\n"
   ]
  },
  {
   "cell_type": "code",
   "execution_count": 7,
   "metadata": {},
   "outputs": [],
   "source": [
    "a.df.to_excel(\"prem.xlsx\")"
   ]
  },
  {
   "cell_type": "code",
   "execution_count": null,
   "metadata": {},
   "outputs": [],
   "source": []
  },
  {
   "cell_type": "code",
   "execution_count": null,
   "metadata": {},
   "outputs": [],
   "source": []
  },
  {
   "cell_type": "code",
   "execution_count": null,
   "metadata": {},
   "outputs": [],
   "source": []
  },
  {
   "cell_type": "code",
   "execution_count": null,
   "metadata": {},
   "outputs": [],
   "source": []
  }
 ],
 "metadata": {
  "kernelspec": {
   "display_name": "Python(my_env)",
   "language": "python",
   "name": "myenv"
  },
  "language_info": {
   "codemirror_mode": {
    "name": "ipython",
    "version": 3
   },
   "file_extension": ".py",
   "mimetype": "text/x-python",
   "name": "python",
   "nbconvert_exporter": "python",
   "pygments_lexer": "ipython3",
   "version": "3.6.4"
  }
 },
 "nbformat": 4,
 "nbformat_minor": 2
}
