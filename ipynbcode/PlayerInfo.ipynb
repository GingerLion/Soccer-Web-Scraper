{
 "cells": [
  {
   "cell_type": "code",
   "execution_count": 1,
   "metadata": {},
   "outputs": [
    {
     "name": "stderr",
     "output_type": "stream",
     "text": [
      "C:\\Users\\dillo\\Anaconda3\\lib\\site-packages\\ipykernel\\parentpoller.py:116: UserWarning: Parent poll failed.  If the frontend dies,\n",
      "                the kernel may be left running.  Please let us know\n",
      "                about your system (bitness, Python, etc.) at\n",
      "                ipython-dev@scipy.org\n",
      "  ipython-dev@scipy.org\"\"\")\n"
     ]
    }
   ],
   "source": [
    "import requests\n",
    "import re\n",
    "from bs4 import BeautifulSoup \n",
    "import numpy as np\n",
    "import pandas as pd\n",
    "from dateutil.parser import parse\n",
    "from datetime import datetime \n",
    "\n",
    "class PlayerInfo:\n",
    "    \"\"\" \n",
    "        1. This class fetches basic player information from a 'footballapi' API and web-scrapes\n",
    "        the current premier league clubs in order to grab premier league player data only from the API\n",
    "        2. This data is converted into a pandas dataframe to be used for analysis or to be joined with \n",
    "        player stats data based on player id\n",
    "        3. Modifications will be made to allow the user to choose which soccer league player data\n",
    "           they want to grab\n",
    "    \"\"\"\n",
    "    def __init__(self):\n",
    "        # dictionary of lists to store data for all players\n",
    "        self.player_info = {\n",
    "            'id' : [],\n",
    "            'name' : [],\n",
    "            'role' : [],\n",
    "            'position': [],\n",
    "            'shirtNum': [],\n",
    "            'country' : [],\n",
    "            'club' : [],\n",
    "            'dob' : []\n",
    "        }\n",
    "        # list for relevant club names\n",
    "        self.clubs = []\n",
    "        # link for football api\n",
    "        self.players_url = \"https://footballapi.pulselive.com/football/teams/?/compseasons/274/staff?pageSize=30&compSeasons=274&altIds=true&page=0&type=player\"\n",
    "        # link for current premier league clubs\n",
    "        self.clubs_url = \"https://www.premierleague.com/clubs\"\n",
    "        # initialize pandas DataFrame object\n",
    "        self.df = pd.DataFrame()\n",
    "        # web-scrape clubs\n",
    "        self.get_clubs()\n",
    "        # fetch player info based on clubs\n",
    "        self.get_player_info()\n",
    "        # convert the data from dict to dataframe and clean\n",
    "        self.convert_to_df()\n",
    "        \n",
    "    def get_clubs(self):\n",
    "        response = requests.get(self.clubs_url)\n",
    "        soup = BeautifulSoup(response.content,'html.parser')\n",
    "        clubs_list = soup.find_all(\"a\")\n",
    "        #extract href links because they contain club number\n",
    "        clubs_links = [link['href'] for link in clubs_list]\n",
    "        #narrow down to links that have this regex pattern\n",
    "        clubs = [link for link in clubs_links if re.search('clubs/[0-9]+',link)]\n",
    "        #tidy-up club names\n",
    "        for i in range(len(clubs)):\n",
    "            clubs[i] = clubs[i].replace('-and-','-&-')\n",
    "            clubs[i] = clubs[i].replace('-',' ')\n",
    "        #split link to get club number & club name in tuples\n",
    "        self.club_and_num = [(i.split(\"/\")[2],i.split(\"/\")[3]) for i in clubs]\n",
    "    \n",
    "    def get_player_info(self):\n",
    "        response = dict()\n",
    "        # for each club\n",
    "        for i in range(len(self.club_and_num)):\n",
    "            response = requests.get(self.players_url.replace(f'teams/?/',f'teams/{self.club_and_num[i][0]}/')).json()\n",
    "            try: \n",
    "                players = response['players']\n",
    "                #for every player in the club\n",
    "                for p in players:\n",
    "                    try:\n",
    "                        self.player_info['id'].append(int(p['id']))\n",
    "                        self.player_info['name'].append(p['name']['display'])\n",
    "                        self.player_info['role'].append(p['info']['position'])\n",
    "                        self.player_info['position'].append(p['info']['positionInfo'])\n",
    "                        try: \n",
    "                            self.player_info['shirtNum'].append(int(p['info']['shirtNum']))\n",
    "                        except:\n",
    "                            self.player_info['shirtNum'].append(0)\n",
    "                        try:\n",
    "                            self.player_info['club'].append(self.club_and_num[i][1])\n",
    "                        except:\n",
    "                            self.player_info['club'].append('N/A')\n",
    "                        try:\n",
    "                            self.player_info['country'].append(p['birth']['country']['country'])\n",
    "                        except:\n",
    "                            self.player_info['country'].append('N/A')\n",
    "                        try:\n",
    "                            self.player_info['dob'].append(str(parse(p['birth']['date']['label']).date()))\n",
    "                        except:\n",
    "                            self.player_info['dob'].append('N/A')\n",
    "                    except:\n",
    "                        pass\n",
    "            except:\n",
    "                pass\n",
    "            response = dict()\n",
    "            \n",
    "    def convert_to_df(self):\n",
    "        #convert to pandas dataframe\n",
    "        self.df = pd.DataFrame.from_dict(self.player_info,orient='columns')\n",
    "        #use unique player id as index\n",
    "        self.df.set_index('id',inplace=True)\n",
    "        #clean some data\n",
    "        self.df.replace('N/A',np.NaN,inplace=True)\n",
    "        self.df['shirtNum'].replace(0,np.NaN,inplace=True)\n",
    "        #capitalize first letter of column names\n",
    "        self.df.columns = [x.title() for x in self.df.columns]\n",
    "        self.df.rename(columns={ \"club\":\"Club\",\"country\":\"Country\",\"dob\":\"Dob\",\"name\":\"Name\",\"position\":\"Position\",\"role\":\"Role\",\"shirtNum\":\"Shirt Number\"},inplace=True)"
   ]
  },
  {
   "cell_type": "code",
   "execution_count": 2,
   "metadata": {},
   "outputs": [],
   "source": [
    "pl = PlayerInfo()\n"
   ]
  },
  {
   "cell_type": "code",
   "execution_count": 8,
   "metadata": {},
   "outputs": [
    {
     "data": {
      "text/html": [
       "<div>\n",
       "<style scoped>\n",
       "    .dataframe tbody tr th:only-of-type {\n",
       "        vertical-align: middle;\n",
       "    }\n",
       "\n",
       "    .dataframe tbody tr th {\n",
       "        vertical-align: top;\n",
       "    }\n",
       "\n",
       "    .dataframe thead th {\n",
       "        text-align: right;\n",
       "    }\n",
       "</style>\n",
       "<table border=\"1\" class=\"dataframe\">\n",
       "  <thead>\n",
       "    <tr style=\"text-align: right;\">\n",
       "      <th></th>\n",
       "      <th>Club</th>\n",
       "      <th>Country</th>\n",
       "      <th>Dob</th>\n",
       "      <th>Name</th>\n",
       "      <th>Position</th>\n",
       "      <th>Role</th>\n",
       "      <th>Shirtnum</th>\n",
       "    </tr>\n",
       "    <tr>\n",
       "      <th>id</th>\n",
       "      <th></th>\n",
       "      <th></th>\n",
       "      <th></th>\n",
       "      <th></th>\n",
       "      <th></th>\n",
       "      <th></th>\n",
       "      <th></th>\n",
       "    </tr>\n",
       "  </thead>\n",
       "  <tbody>\n",
       "    <tr>\n",
       "      <th>4394</th>\n",
       "      <td>Sheffield United</td>\n",
       "      <td>Ireland</td>\n",
       "      <td>1992-10-20</td>\n",
       "      <td>John Egan</td>\n",
       "      <td>Centre Central Defender</td>\n",
       "      <td>D</td>\n",
       "      <td>12.0</td>\n",
       "    </tr>\n",
       "  </tbody>\n",
       "</table>\n",
       "</div>"
      ],
      "text/plain": [
       "                  Club  Country         Dob       Name  \\\n",
       "id                                                       \n",
       "4394  Sheffield United  Ireland  1992-10-20  John Egan   \n",
       "\n",
       "                     Position Role  Shirtnum  \n",
       "id                                            \n",
       "4394  Centre Central Defender    D      12.0  "
      ]
     },
     "execution_count": 8,
     "metadata": {},
     "output_type": "execute_result"
    }
   ],
   "source": [
    "pl.df[pl.df.index==4394]\n"
   ]
  },
  {
   "cell_type": "code",
   "execution_count": null,
   "metadata": {},
   "outputs": [],
   "source": []
  },
  {
   "cell_type": "code",
   "execution_count": null,
   "metadata": {},
   "outputs": [],
   "source": []
  },
  {
   "cell_type": "code",
   "execution_count": 47,
   "metadata": {},
   "outputs": [],
   "source": []
  },
  {
   "cell_type": "code",
   "execution_count": 74,
   "metadata": {},
   "outputs": [],
   "source": [
    "\n"
   ]
  },
  {
   "cell_type": "code",
   "execution_count": 66,
   "metadata": {},
   "outputs": [],
   "source": [
    "\n"
   ]
  },
  {
   "cell_type": "code",
   "execution_count": null,
   "metadata": {},
   "outputs": [],
   "source": []
  },
  {
   "cell_type": "code",
   "execution_count": 72,
   "metadata": {},
   "outputs": [],
   "source": [
    "\n"
   ]
  },
  {
   "cell_type": "code",
   "execution_count": null,
   "metadata": {},
   "outputs": [],
   "source": []
  },
  {
   "cell_type": "code",
   "execution_count": null,
   "metadata": {},
   "outputs": [],
   "source": []
  }
 ],
 "metadata": {
  "kernelspec": {
   "display_name": "Python(my_env)",
   "language": "python",
   "name": "myenv"
  },
  "language_info": {
   "codemirror_mode": {
    "name": "ipython",
    "version": 3
   },
   "file_extension": ".py",
   "mimetype": "text/x-python",
   "name": "python",
   "nbconvert_exporter": "python",
   "pygments_lexer": "ipython3",
   "version": "3.6.4"
  }
 },
 "nbformat": 4,
 "nbformat_minor": 2
}
